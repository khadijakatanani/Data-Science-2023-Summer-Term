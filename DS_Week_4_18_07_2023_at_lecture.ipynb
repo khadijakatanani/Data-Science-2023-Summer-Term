{
  "nbformat": 4,
  "nbformat_minor": 0,
  "metadata": {
    "colab": {
      "private_outputs": true,
      "provenance": [],
      "authorship_tag": "ABX9TyOvg57exzGZsX9Wpgx28dJo",
      "include_colab_link": true
    },
    "kernelspec": {
      "name": "python3",
      "display_name": "Python 3"
    },
    "language_info": {
      "name": "python"
    }
  },
  "cells": [
    {
      "cell_type": "markdown",
      "metadata": {
        "id": "view-in-github",
        "colab_type": "text"
      },
      "source": [
        "<a href=\"https://colab.research.google.com/github/khadijakatanani/Data-Science-2023-Summer-Term/blob/Weekly-Materials/DS_Week_4_18_07_2023_at_lecture.ipynb\" target=\"_parent\"><img src=\"https://colab.research.google.com/assets/colab-badge.svg\" alt=\"Open In Colab\"/></a>"
      ]
    },
    {
      "cell_type": "markdown",
      "source": [
        "#####################<br>\n",
        "\n",
        "# Housing Prices\n",
        "######################"
      ],
      "metadata": {
        "id": "WpiVEsAdPg4C"
      }
    },
    {
      "cell_type": "code",
      "execution_count": null,
      "metadata": {
        "id": "t1g-yYbOPMmX"
      },
      "outputs": [],
      "source": [
        "import pandas as pd\n",
        "import numpy as np\n",
        "pd.set_option(\"display.max_rows\", 25)\n",
        "pd.set_option(\"display.max_columns\", 25)\n",
        "\n",
        "df = pd.read_csv(\"http://www.ishelp.info/data/housing_full.csv\")\n",
        "df.drop(\"Id\", axis = 1, inplace=True)"
      ]
    },
    {
      "cell_type": "code",
      "source": [
        "df[\"MSSubClass\"].head(25)"
      ],
      "metadata": {
        "id": "oC4klj1WRpAL"
      },
      "execution_count": null,
      "outputs": []
    },
    {
      "cell_type": "code",
      "source": [
        "# Univariate Analysis\n",
        "# count, missing, nunique, dtype, mean, median, mode, min, max, 25%, 75%,std, skew, kurt"
      ],
      "metadata": {
        "id": "SClBsNjRRDxH"
      },
      "execution_count": null,
      "outputs": []
    },
    {
      "cell_type": "code",
      "source": [
        "df[\"SalePrice\"].describe()"
      ],
      "metadata": {
        "id": "aLcUuD07Rb0c"
      },
      "execution_count": null,
      "outputs": []
    },
    {
      "cell_type": "code",
      "source": [
        "output_df = pd.DataFrame(columns = [\"Numeric\",\n",
        "                                    \"Missing\",\n",
        "                                    \"Nunique\",\n",
        "                                    \"Dtype\",\n",
        "                                    \"Mode\",\n",
        "                                    \"Skew\",\n",
        "                                    \"Kurt\"])\n",
        "\n",
        "\n",
        "for col in df:\n",
        "  if pd.api.types.is_numeric_dtype(df[col]):\n",
        "    output_df.loc[col] = [pd.api.types.is_numeric_dtype(df[col]),\n",
        "                      df[col].isna().sum(),\n",
        "                      df[col].nunique(),\n",
        "                      df[col].dtype,\n",
        "                      df[col].mode().values[0],\n",
        "                      df[col].skew(),\n",
        "                      df[col].kurt()]\n",
        "  else:\n",
        "    output_df.loc[col] = [pd.api.types.is_numeric_dtype(df[col]),\n",
        "                      df[col].isna().sum(),\n",
        "                      df[col].nunique(),\n",
        "                      df[col].dtype,\n",
        "                      df[col].mode().values[0],\n",
        "                      np.nan,\n",
        "                      np.nan]\n",
        "\n",
        "pd.set_option(\"display.max_rows\", 81)\n",
        "pd.set_option(\"display.max_columns\", 61)\n",
        "output_df.sort_values(by = [\"Numeric\"], ascending=False)"
      ],
      "metadata": {
        "id": "XJHZGuvTSYeo"
      },
      "execution_count": null,
      "outputs": []
    },
    {
      "cell_type": "code",
      "source": [
        "import seaborn as sns\n",
        "from scipy import stats\n",
        "import matplotlib.pyplot as plt\n",
        "\n",
        "# y=mx + b\n",
        "\n",
        "\n",
        "for col in df:\n",
        "  if col != \"SalePrice\":\n",
        "    if pd.api.types.is_numeric_dtype(df[col]):\n",
        "      m, b, r, p, err = stats.linregress(df[col], df[\"SalePrice\"])\n",
        "      textstr = \"y = \" + str(round(m, 2)) + \"x + \" + str(round(b, 2)) + \"\\n\"\n",
        "      textstr += \"r = \" + str(round(r, 2)) + \"\\n\"\n",
        "      textstr += \"r2 = \" + str(round(r**2, 2))\n",
        "\n",
        "      ax = sns.jointplot(data = df, x = df[col], y= df[\"SalePrice\"], kind = \"reg\")\n",
        "      ax.fig.text(1, 0.114, textstr , fontsize = 12);"
      ],
      "metadata": {
        "id": "wrIGCF6tVBYo"
      },
      "execution_count": null,
      "outputs": []
    },
    {
      "cell_type": "code",
      "source": [
        "df.columns"
      ],
      "metadata": {
        "id": "1qekvYJiakz9"
      },
      "execution_count": null,
      "outputs": []
    },
    {
      "cell_type": "code",
      "source": [
        "df[\"MasVnrArea\"].isna().sum()"
      ],
      "metadata": {
        "id": "zTYJBQOKcuJi"
      },
      "execution_count": null,
      "outputs": []
    },
    {
      "cell_type": "code",
      "source": [
        "import warnings\n",
        "warnings.filterwarnings(\"ignore\")\n",
        "\n",
        "corr = df.corr(method = \"pearson\")\n",
        "# corr.style.background_gradient(cmap = \"YlOrRd\").set_precision(2)  # cmap = coolwarm\n",
        "\n",
        "\n",
        "corr.style.background_gradient(cmap=sns.diverging_palette(220,10, as_cmap=True),axis=None).format(\"{:,.2f}\")"
      ],
      "metadata": {
        "id": "iY9Qw3Y_fZ_C"
      },
      "execution_count": null,
      "outputs": []
    },
    {
      "cell_type": "code",
      "source": [
        "sns.set(font_scale = 0.5)\n",
        "\n",
        "plt.figure(figsize = (20,20), dpi =100)\n",
        "sns.heatmap(corr, annot=True, fmt = \".2f\", linewidths= .01)\n",
        "plt.title(\"Correlation of Features\")\n",
        "plt.show()\n"
      ],
      "metadata": {
        "id": "EiWCGfCRhjZU"
      },
      "execution_count": null,
      "outputs": []
    },
    {
      "cell_type": "code",
      "source": [
        "fig = plt.figure(figsize = (5,5))\n",
        "ax = fig.gca() # get current axis\n",
        "# df.hist(ax = ax);\n",
        "\n",
        "df[\"KitchenAbvGr\"].hist(ax = ax)"
      ],
      "metadata": {
        "id": "LFtUpOg8isEX"
      },
      "execution_count": null,
      "outputs": []
    },
    {
      "cell_type": "code",
      "source": [
        "df[\"KitchenAbvGr\"].skew()"
      ],
      "metadata": {
        "id": "dmZHDxcljUZM"
      },
      "execution_count": null,
      "outputs": []
    },
    {
      "cell_type": "code",
      "source": [
        "plt.scatter(df['1stFlrSF'], df['SalePrice'], color = \"red\")\n",
        "plt.title(\"Sale Price Against 1st Floor\")\n",
        "plt.xlabel(\"1st Floor in sqrt\")\n",
        "plt.ylabel(\"Sale Price\");"
      ],
      "metadata": {
        "id": "HFbn2ahYjxqF"
      },
      "execution_count": null,
      "outputs": []
    },
    {
      "cell_type": "code",
      "source": [
        "df.dropna(axis = 0, subset=['BsmtCond'], inplace=True)\n",
        "df[\"BsmtCond\"].isna().sum()"
      ],
      "metadata": {
        "id": "Xw2DIW64msfi"
      },
      "execution_count": null,
      "outputs": []
    },
    {
      "cell_type": "code",
      "source": [
        "labels = df[\"BsmtCond\"].unique()\n",
        "sizes = df[\"BsmtCond\"].value_counts().values\n",
        "\n",
        "fig, ax = plt.subplots()\n",
        "ax.pie(sizes, labels = labels, autopct= \"%.2f%%\", startangle = 90)\n",
        "\n",
        "sns.set_style(\"white\")\n",
        "ax.axis(\"equal\")\n",
        "\n",
        "plt.show()"
      ],
      "metadata": {
        "id": "injBlEkblADg"
      },
      "execution_count": null,
      "outputs": []
    },
    {
      "cell_type": "code",
      "source": [],
      "metadata": {
        "id": "ympjvhBUnM4v"
      },
      "execution_count": null,
      "outputs": []
    }
  ]
}