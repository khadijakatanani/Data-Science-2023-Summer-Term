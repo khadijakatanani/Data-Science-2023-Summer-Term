{
  "nbformat": 4,
  "nbformat_minor": 0,
  "metadata": {
    "colab": {
      "private_outputs": true,
      "provenance": [],
      "authorship_tag": "ABX9TyN3btuh0OFlEhpeinV1ojJs"
    },
    "kernelspec": {
      "name": "python3",
      "display_name": "Python 3"
    },
    "language_info": {
      "name": "python"
    }
  },
  "cells": [
    {
      "cell_type": "markdown",
      "source": [
        "#########################################\n",
        "# Pandas – Creating DataFrames\n",
        "#########################################\n"
      ],
      "metadata": {
        "id": "ovojaYAybfwp"
      }
    },
    {
      "cell_type": "code",
      "execution_count": null,
      "metadata": {
        "id": "9-VouNh0roLz"
      },
      "outputs": [],
      "source": [
        "# bring the functionality of pandas in\n",
        "import pandas as pd"
      ]
    },
    {
      "cell_type": "code",
      "source": [
        "# create a dataframe object\n",
        "my_df = pd.DataFrame()\n",
        "print(my_df)"
      ],
      "metadata": {
        "id": "HmxsNQpyryfs"
      },
      "execution_count": null,
      "outputs": []
    },
    {
      "cell_type": "code",
      "source": [
        "# populate the dataframe with data\n",
        "my_df = pd.DataFrame({\"Name\": [\"Tom\", \"Dick\", \"Harry\"]})\n",
        "my_df"
      ],
      "metadata": {
        "id": "lAvl4r9ssJ1c"
      },
      "execution_count": null,
      "outputs": []
    },
    {
      "cell_type": "code",
      "source": [
        "# add another field\n",
        "my_df = pd.DataFrame({\"Name\":[\"Tom\",\"Dick\",\"Harry\"],\n",
        "                      \"ID\":[101,102,103]})\n",
        "print(my_df)"
      ],
      "metadata": {
        "id": "3DSv5nNS2LVP"
      },
      "execution_count": null,
      "outputs": []
    },
    {
      "cell_type": "code",
      "source": [
        "# create a dataframe with the help of a list\n",
        "my_list = [[\"Tom\", 101], [\"Dick\", 102], [\"Harry\", 103]]\n",
        "my_df = pd.DataFrame(my_list)\n",
        "my_df"
      ],
      "metadata": {
        "id": "tro7FUDCt7yj"
      },
      "execution_count": null,
      "outputs": []
    },
    {
      "cell_type": "code",
      "source": [
        "# define the columns of the dataframe\n",
        "my_df = pd.DataFrame(my_list, columns = [\"Name\", \"ID\"])\n",
        "my_df\n"
      ],
      "metadata": {
        "id": "4AaGcv-G3NZa"
      },
      "execution_count": null,
      "outputs": []
    },
    {
      "cell_type": "markdown",
      "source": [
        "###############################################\n",
        "# Pandas – Exploring and Understanding Data\n",
        "###############################################"
      ],
      "metadata": {
        "id": "ea8UMVFHbYsJ"
      }
    },
    {
      "cell_type": "code",
      "source": [
        "# upload a file to the colab environment\n",
        "from google.colab import files\n",
        "uploaded = files.upload()"
      ],
      "metadata": {
        "id": "rbMhzxUS6n48"
      },
      "execution_count": null,
      "outputs": []
    },
    {
      "cell_type": "code",
      "source": [
        "# extract data from excel\n",
        "df = pd.read_excel(\"grocery_database.xlsx\", sheet_name = \"transactions\")"
      ],
      "metadata": {
        "id": "eJV4pbNqHab2"
      },
      "execution_count": null,
      "outputs": []
    },
    {
      "cell_type": "markdown",
      "source": [
        "### Basic Exploration of the Data"
      ],
      "metadata": {
        "id": "rFgnmptzTjs-"
      }
    },
    {
      "cell_type": "code",
      "source": [
        "# how many rows and columns\n",
        "df.shape"
      ],
      "metadata": {
        "id": "fEQXyLOnHmB2"
      },
      "execution_count": null,
      "outputs": []
    },
    {
      "cell_type": "code",
      "source": [
        "# a subset of rows\n",
        "df.head() # by default: top 5\n",
        "df.tail() # by default: last 5"
      ],
      "metadata": {
        "id": "hY8drhYiTtYz"
      },
      "execution_count": null,
      "outputs": []
    },
    {
      "cell_type": "code",
      "source": [
        "# a subset of rows - top N rows, last N rows\n",
        "df.head(20) # top 20 rows\n",
        "df.tail(15) # last 15 rows"
      ],
      "metadata": {
        "id": "dCeyMX0qTvw-"
      },
      "execution_count": null,
      "outputs": []
    },
    {
      "cell_type": "code",
      "source": [
        "# random sample - a single row\n",
        "df.sample()"
      ],
      "metadata": {
        "id": "sz2Zm0jnTySW"
      },
      "execution_count": null,
      "outputs": []
    },
    {
      "cell_type": "code",
      "source": [
        "# random sample - N rows\n",
        "df.sample(10) # 10 random rows"
      ],
      "metadata": {
        "id": "D7CqSIbZTz36"
      },
      "execution_count": null,
      "outputs": []
    },
    {
      "cell_type": "code",
      "source": [
        "# proportion of randomly selected rows - n%\n",
        "df.sample(frac = 0.1) # 10% of the data, randomly selected rows"
      ],
      "metadata": {
        "id": "hcnlXZRWT1eo"
      },
      "execution_count": null,
      "outputs": []
    },
    {
      "cell_type": "markdown",
      "source": [
        "### Further Exploration of the Data"
      ],
      "metadata": {
        "id": "MRtU3zepT34p"
      }
    },
    {
      "cell_type": "code",
      "source": [
        "# summary statistics\n",
        "df.describe()"
      ],
      "metadata": {
        "id": "QPs8_LvRy8Fm"
      },
      "execution_count": null,
      "outputs": []
    },
    {
      "cell_type": "code",
      "source": [
        "# outlier detection - quick, very basic overview\n",
        "# 1. extract top N rows based on a specific field\n",
        "df.nlargest(5, \"sales_cost\") # top 5 highest values of the sales_cost field"
      ],
      "metadata": {
        "id": "Q3pK9J8aT9xj"
      },
      "execution_count": null,
      "outputs": []
    },
    {
      "cell_type": "code",
      "source": [
        "# 2. extract last N rows based on a specific field\n",
        "df.nsmallest(5, \"sales_cost\") # last 5 lowest values of the sales_cost field"
      ],
      "metadata": {
        "id": "AbK_GsBpUBKK"
      },
      "execution_count": null,
      "outputs": []
    },
    {
      "cell_type": "code",
      "source": [
        "# number of the unique values for each field\n",
        "df.nunique()"
      ],
      "metadata": {
        "id": "I6SZxlCAUCgp"
      },
      "execution_count": null,
      "outputs": []
    },
    {
      "cell_type": "code",
      "source": [
        "# missing values  = null values\n",
        "df.isna().sum()"
      ],
      "metadata": {
        "id": "DoqZt7fWUD1F"
      },
      "execution_count": null,
      "outputs": []
    },
    {
      "cell_type": "markdown",
      "source": [
        "#########################################\n",
        "# Pandas – Accessing Columns\n",
        "#########################################\n"
      ],
      "metadata": {
        "id": "n1Pw7CjybmI5"
      }
    },
    {
      "cell_type": "code",
      "source": [
        "# access (select) a specific field\n",
        "\n",
        "series = df[\"customer_id\"] # returns a Pandas Series\n",
        "data_frame = df[[\"customer_id\"]] # returns a Pandas DataFrame\n"
      ],
      "metadata": {
        "id": "6q8F8Y_tj1g9"
      },
      "execution_count": null,
      "outputs": []
    },
    {
      "cell_type": "markdown",
      "source": [
        "#########################################\n",
        "# Pandas – Adding and Dropping Columns\n",
        "#########################################\n"
      ],
      "metadata": {
        "id": "83qyCeO9mwcr"
      }
    },
    {
      "cell_type": "code",
      "source": [
        "# create additional field and set a value\n",
        "df[\"store_id\"] = 1"
      ],
      "metadata": {
        "id": "5MQJLvdAm_Ia"
      },
      "execution_count": null,
      "outputs": []
    },
    {
      "cell_type": "code",
      "source": [
        "# create additional field based around the value of another one\n",
        "df[\"profit\"] = df[\"sales_cost\"]*0.2\n",
        "# This means that the profit of the sales cost is 20%."
      ],
      "metadata": {
        "id": "60lO9FrJUgE3"
      },
      "execution_count": null,
      "outputs": []
    },
    {
      "cell_type": "code",
      "source": [
        "# apply some if else logic with \"where\" statement\n",
        "import numpy as np\n",
        "\n",
        "df[\"sales_type\"] = np.where(df[\"sales_cost\"] > 20, \"Large\", \"Small\")\n",
        "df[[\"sales_cost\", \"sales_type\"]]"
      ],
      "metadata": {
        "id": "vbYlz8QarzeD"
      },
      "execution_count": null,
      "outputs": []
    },
    {
      "cell_type": "code",
      "source": [
        "# apply some if else logic with \"select\" statement\n",
        "\n",
        "condition_rules = [df[\"sales_cost\"] > 50,   # X-Large\n",
        "                   df[\"sales_cost\"] > 20,   # Large\n",
        "                   df[\"sales_cost\"] > 10]   # Medium\n",
        "\n",
        "# create a list of outcomes that are associated with the condition rules\n",
        "outcomes = [\"X-Large\", \"Large\", \"Medium\"]\n",
        "\n",
        "df[\"sales_type\"] = np.select(condition_rules, outcomes, default = \"Small\")"
      ],
      "metadata": {
        "id": "AUzpXhwsqvty"
      },
      "execution_count": null,
      "outputs": []
    },
    {
      "cell_type": "code",
      "source": [
        "# remove a column\n",
        "new_df = df.drop([\"sales_cost\"], axis = 1)\n",
        "# axis= 0 to remove a row"
      ],
      "metadata": {
        "id": "MQzS-FKHwxd9"
      },
      "execution_count": null,
      "outputs": []
    },
    {
      "cell_type": "code",
      "source": [],
      "metadata": {
        "id": "DQOybHe40H9j"
      },
      "execution_count": null,
      "outputs": []
    }
  ]
}